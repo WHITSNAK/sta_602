{
 "cells": [
  {
   "cell_type": "code",
   "execution_count": 1,
   "metadata": {},
   "outputs": [],
   "source": [
    "import pandas as pd\n",
    "import numpy as np\n",
    "import seaborn as sns\n",
    "import matplotlib.pyplot as plt\n",
    "import scipy.stats as stats\n",
    "\n",
    "sns.set_style('whitegrid')"
   ]
  },
  {
   "cell_type": "code",
   "execution_count": null,
   "metadata": {},
   "outputs": [],
   "source": [
    "from numpy.linalg import inv\n",
    "from numpy.random import normal, gamma\n",
    "\n",
    "class MVNMean:\n",
    "    def __init__(self, μ0, Σ0):\n",
    "        self.μ0 = μ0\n",
    "        self.Σ0 = Σ0\n",
    "        self.Λ0 = inv(Σ0)\n",
    "    \n",
    "    def sample_prior(self, size=1):\n",
    "        return multivariate_normal(self.μ0, self.Σ0, size=size)\n",
    "    \n",
    "    def sample_posterior(self, X, Σ, size=1):\n",
    "        n = X.shape[0]\n",
    "        X_mean = X.mean(axis=0)\n",
    "\n",
    "        Λ = inv(Σ)\n",
    "        Λn = self.Λ0 + n * Λ\n",
    "        Σn = inv(Λn)\n",
    "        μn = Σn @ (Λ @ (n*X_mean) + self.Λ0 @ self.μ0)\n",
    "        return multivariate_normal(μn, Σn, size=size)\n",
    "\n",
    "class MVNSigma:\n",
    "    def __init__(self, ν0, S0):\n",
    "        self.ν0 = ν0\n",
    "        self.S0 = S0\n",
    "    \n",
    "    def sample_prior(self, size=1):\n",
    "        return invwishart(self.ν0, self.S0).rvs(size=size)\n",
    "    \n",
    "    def sample_posterior(self, X, θ, size=1):\n",
    "        n = X.shape[0]\n",
    "        S = (X - θ).T @ (X - θ)\n",
    "\n",
    "        νn = self.ν0 + n\n",
    "        Sn = self.S0 + S\n",
    "        return invwishart(νn, Sn).rvs(size=size)"
   ]
  }
 ],
 "metadata": {
  "kernelspec": {
   "display_name": "Python 3.8.10 ('base')",
   "language": "python",
   "name": "python3"
  },
  "language_info": {
   "codemirror_mode": {
    "name": "ipython",
    "version": 3
   },
   "file_extension": ".py",
   "mimetype": "text/x-python",
   "name": "python",
   "nbconvert_exporter": "python",
   "pygments_lexer": "ipython3",
   "version": "3.8.10"
  },
  "orig_nbformat": 4,
  "vscode": {
   "interpreter": {
    "hash": "8aa86febbd8b68d3c6a1a0d2cefbe9270b8ac80e62773c8b87751ee948ce61ed"
   }
  }
 },
 "nbformat": 4,
 "nbformat_minor": 2
}
